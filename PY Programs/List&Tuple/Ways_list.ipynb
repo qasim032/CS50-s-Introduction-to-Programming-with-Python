{
 "cells": [
  {
   "cell_type": "markdown",
   "id": "31ac9fd7",
   "metadata": {},
   "source": [
    "# Square Brackets"
   ]
  },
  {
   "cell_type": "code",
   "execution_count": 13,
   "id": "e86b2d6a",
   "metadata": {},
   "outputs": [
    {
     "name": "stdout",
     "output_type": "stream",
     "text": [
      "[1, 'Two', 3.0, 4, True]\n"
     ]
    }
   ],
   "source": [
    "my_list = [1,\"Two\",3.0,4,True]\n",
    "print(my_list)"
   ]
  },
  {
   "cell_type": "code",
   "execution_count": 14,
   "id": "bdb973e2",
   "metadata": {},
   "outputs": [
    {
     "name": "stdout",
     "output_type": "stream",
     "text": [
      "[1, 'Two', 3.0]\n"
     ]
    }
   ],
   "source": [
    "my_list = list((1,\"Two\",3.0))\n",
    "print(my_list)"
   ]
  },
  {
   "cell_type": "code",
   "execution_count": 15,
   "id": "17b3b085",
   "metadata": {},
   "outputs": [
    {
     "name": "stdout",
     "output_type": "stream",
     "text": [
      "[1, 'Two', 3.0, 1, 'Two', 3.0, 1, 'Two', 3.0]\n"
     ]
    }
   ],
   "source": [
    "print(my_list*3)"
   ]
  },
  {
   "cell_type": "markdown",
   "id": "8c15825a",
   "metadata": {},
   "source": [
    "# Checking The Number In The List"
   ]
  },
  {
   "cell_type": "code",
   "execution_count": 16,
   "id": "4e87bbff",
   "metadata": {},
   "outputs": [
    {
     "name": "stdout",
     "output_type": "stream",
     "text": [
      "Not found\n"
     ]
    }
   ],
   "source": [
    "my_list = list((1,\"Two\",3.0))\n",
    "check = float(input(\"What's num? \"))\n",
    "if check in my_list:\n",
    "    print(\"Found\")\n",
    "else:\n",
    "    print(\"Not found\")"
   ]
  },
  {
   "cell_type": "markdown",
   "id": "09f82082",
   "metadata": {},
   "source": [
    "# Copy elements"
   ]
  },
  {
   "cell_type": "code",
   "execution_count": 17,
   "id": "51f853a1",
   "metadata": {},
   "outputs": [
    {
     "name": "stdout",
     "output_type": "stream",
     "text": [
      "[1, 'Two', 3.0] [1, 2, 3.0]\n",
      "[1, 2, 3.0]\n",
      "[1, 2, 3.0]\n"
     ]
    }
   ],
   "source": [
    "my_list2 = my_list\n",
    "my_list2=my_list.copy()\n",
    "my_list2[1] = 2\n",
    "print(my_list,my_list2)\n",
    "#my_list = [1, 'Two', 3.0] , my_list2 = [1, 'Two', 2]\n",
    "# Why .copy()?\n",
    "my_list2 = my_list\n",
    "my_list2[1] = 2\n",
    "print(my_list2)\n",
    "print(my_list)# It will also change in first lisy so .copy() is best\n"
   ]
  },
  {
   "cell_type": "markdown",
   "id": "95037321",
   "metadata": {},
   "source": [
    "# Removing Elements"
   ]
  },
  {
   "cell_type": "code",
   "execution_count": 18,
   "id": "3c7e7d69",
   "metadata": {},
   "outputs": [
    {
     "name": "stdout",
     "output_type": "stream",
     "text": [
      "[1, 3.0]\n"
     ]
    }
   ],
   "source": [
    "my_list.remove(2) # Passing the data\n",
    "print(my_list)"
   ]
  },
  {
   "cell_type": "code",
   "execution_count": 19,
   "id": "36f72efe",
   "metadata": {},
   "outputs": [
    {
     "name": "stdout",
     "output_type": "stream",
     "text": [
      "[3.0]\n"
     ]
    }
   ],
   "source": [
    "# Using pop method\n",
    "my_list.pop(0) # Pasing the index\n",
    "print(my_list)"
   ]
  },
  {
   "cell_type": "markdown",
   "id": "79bf27cb",
   "metadata": {},
   "source": [
    "# Adding Elements"
   ]
  },
  {
   "cell_type": "code",
   "execution_count": 20,
   "id": "23db090a",
   "metadata": {},
   "outputs": [
    {
     "name": "stdout",
     "output_type": "stream",
     "text": [
      "[3.0, 2, 1]\n"
     ]
    }
   ],
   "source": [
    "my_list.append(2)\n",
    "my_list.append(1)\n",
    "print(my_list)\n",
    "# [3.0, 2, 1]"
   ]
  },
  {
   "cell_type": "code",
   "execution_count": 21,
   "id": "3b03d5e0",
   "metadata": {},
   "outputs": [
    {
     "name": "stdout",
     "output_type": "stream",
     "text": [
      "[]\n",
      "[1, 2, 3]\n"
     ]
    }
   ],
   "source": [
    "my_list.clear()\n",
    "print(my_list)\n",
    "my_list = [2,3]\n",
    "my_list.insert(0,1)\n",
    "print(my_list)\n"
   ]
  },
  {
   "cell_type": "markdown",
   "id": "78668fb2",
   "metadata": {},
   "source": [
    "# Counting Nummber in the list using count funtion"
   ]
  },
  {
   "cell_type": "code",
   "execution_count": 22,
   "id": "1c147780",
   "metadata": {},
   "outputs": [
    {
     "data": {
      "text/plain": [
       "2"
      ]
     },
     "execution_count": 22,
     "metadata": {},
     "output_type": "execute_result"
    }
   ],
   "source": [
    "my_list = [1,2,3,4,1,1,1,2,3]\n",
    "my_list.count(3)"
   ]
  }
 ],
 "metadata": {
  "kernelspec": {
   "display_name": "Python 3",
   "language": "python",
   "name": "python3"
  },
  "language_info": {
   "codemirror_mode": {
    "name": "ipython",
    "version": 3
   },
   "file_extension": ".py",
   "mimetype": "text/x-python",
   "name": "python",
   "nbconvert_exporter": "python",
   "pygments_lexer": "ipython3",
   "version": "3.13.3"
  }
 },
 "nbformat": 4,
 "nbformat_minor": 5
}
