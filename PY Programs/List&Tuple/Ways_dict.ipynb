{
 "cells": [
  {
   "cell_type": "markdown",
   "id": "2f525ab0",
   "metadata": {},
   "source": [
    "# Dictionary"
   ]
  },
  {
   "cell_type": "code",
   "execution_count": 9,
   "id": "cc2b9dfa",
   "metadata": {},
   "outputs": [
    {
     "name": "stdout",
     "output_type": "stream",
     "text": [
      "<class 'dict'>\n"
     ]
    }
   ],
   "source": [
    "my_dict = {}\n",
    "print(type(my_dict))"
   ]
  },
  {
   "cell_type": "code",
   "execution_count": 10,
   "id": "dc50d0f9",
   "metadata": {},
   "outputs": [
    {
     "name": "stdout",
     "output_type": "stream",
     "text": [
      "Qasim A\n"
     ]
    }
   ],
   "source": [
    "my_dict = {\n",
    "    \"Names\":[\"Qasim\",\"Ali\",\"Khalid\",\"Muhammad Abbas\"],\"Address\":[\"A\",\"B\",\"C\",\"D\"]\n",
    "}\n",
    "print(my_dict[\"Names\"][0],my_dict[\"Address\"][0])"
   ]
  },
  {
   "cell_type": "code",
   "execution_count": null,
   "id": "d86ad7e3",
   "metadata": {},
   "outputs": [
    {
     "name": "stdout",
     "output_type": "stream",
     "text": [
      "{'Names': ['Qasim', 'Khalid', 'Muhammad Abbas'], 'Address': ['A', 'C', 'D']}\n"
     ]
    }
   ],
   "source": [
    "del my_dict[\"Names\"][1],my_dict[\"Address\"][1]\n",
    "print(my_dict)\n",
    "#{'Names': ['Qasim', 'Khalid', 'Muhammad Abbas'], 'Address': ['A', 'C', 'D']}"
   ]
  },
  {
   "cell_type": "code",
   "execution_count": null,
   "id": "16ee76f9",
   "metadata": {},
   "outputs": [],
   "source": []
  }
 ],
 "metadata": {
  "kernelspec": {
   "display_name": "Python 3",
   "language": "python",
   "name": "python3"
  },
  "language_info": {
   "codemirror_mode": {
    "name": "ipython",
    "version": 3
   },
   "file_extension": ".py",
   "mimetype": "text/x-python",
   "name": "python",
   "nbconvert_exporter": "python",
   "pygments_lexer": "ipython3",
   "version": "3.13.3"
  }
 },
 "nbformat": 4,
 "nbformat_minor": 5
}
