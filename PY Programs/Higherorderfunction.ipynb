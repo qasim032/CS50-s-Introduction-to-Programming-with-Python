{
 "cells": [
  {
   "cell_type": "code",
   "execution_count": 17,
   "id": "1fd9b869",
   "metadata": {},
   "outputs": [],
   "source": [
    "def square(z):\n",
    "    return z**2\n",
    "square(3)\n",
    "s = square\n"
   ]
  },
  {
   "cell_type": "code",
   "execution_count": 19,
   "id": "4d6c21f9",
   "metadata": {},
   "outputs": [
    {
     "data": {
      "text/plain": [
       "function"
      ]
     },
     "execution_count": 19,
     "metadata": {},
     "output_type": "execute_result"
    }
   ],
   "source": [
    "s(4)\n",
    "s(3)\n",
    "type(s)"
   ]
  },
  {
   "cell_type": "code",
   "execution_count": null,
   "id": "9c1a7d23",
   "metadata": {},
   "outputs": [],
   "source": []
  },
  {
   "cell_type": "code",
   "execution_count": null,
   "id": "efe3b361",
   "metadata": {},
   "outputs": [],
   "source": []
  }
 ],
 "metadata": {
  "kernelspec": {
   "display_name": "Python 3",
   "language": "python",
   "name": "python3"
  },
  "language_info": {
   "codemirror_mode": {
    "name": "ipython",
    "version": 3
   },
   "file_extension": ".py",
   "mimetype": "text/x-python",
   "name": "python",
   "nbconvert_exporter": "python",
   "pygments_lexer": "ipython3",
   "version": "3.13.3"
  }
 },
 "nbformat": 4,
 "nbformat_minor": 5
}
