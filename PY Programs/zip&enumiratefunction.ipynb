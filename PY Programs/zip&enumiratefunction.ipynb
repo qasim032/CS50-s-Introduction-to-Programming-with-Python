{
 "cells": [
  {
   "cell_type": "code",
   "execution_count": 5,
   "id": "74bd6e50",
   "metadata": {},
   "outputs": [
    {
     "name": "stdout",
     "output_type": "stream",
     "text": [
      "Ali kotri\n",
      "Ahmed Jamshoro\n",
      "Salman Hyderabad\n",
      "Kareem Karachi\n"
     ]
    }
   ],
   "source": [
    "name = [\"Ali\",\"Ahmed\",\"Salman\",\"Kareem\",\"Abbas\"]\n",
    "lives = [\"kotri\",\"Jamshoro\",\"Hyderabad\",\"Karachi\"]\n",
    "for a,b in zip(name,lives):\n",
    "    print(a,b)"
   ]
  },
  {
   "cell_type": "markdown",
   "id": "80f5c6e4",
   "metadata": {},
   "source": [
    "# enumerate"
   ]
  },
  {
   "cell_type": "code",
   "execution_count": 10,
   "id": "dafd86c3",
   "metadata": {},
   "outputs": [
    {
     "name": "stdout",
     "output_type": "stream",
     "text": [
      "index = 0, value = 23\n",
      "index = 1, value = 34\n",
      "index = 2, value = 2\n",
      "index = 3, value = 23\n",
      "index = 4, value = 4\n",
      "index = 5, value = 435\n",
      "index = 6, value = 2\n",
      "index = 7, value = 324\n",
      "index = 8, value = 324\n",
      "index = 9, value = 324\n",
      "index = 10, value = 456\n",
      "index = 11, value = 23\n"
     ]
    }
   ],
   "source": [
    "l1 = [23,34,2,23,4,435,2,324,324,324,456,23]\n",
    "for index,value in enumerate(l1):\n",
    "    print(f\"index = {index}, value = {value}\")\n",
    "    "
   ]
  },
  {
   "cell_type": "code",
   "execution_count": null,
   "id": "cadbdb60",
   "metadata": {},
   "outputs": [],
   "source": []
  },
  {
   "cell_type": "code",
   "execution_count": null,
   "id": "224b3083",
   "metadata": {},
   "outputs": [],
   "source": []
  },
  {
   "cell_type": "code",
   "execution_count": null,
   "id": "3cf43051",
   "metadata": {},
   "outputs": [],
   "source": []
  },
  {
   "cell_type": "code",
   "execution_count": null,
   "id": "9aa9da59",
   "metadata": {},
   "outputs": [],
   "source": []
  }
 ],
 "metadata": {
  "kernelspec": {
   "display_name": "Python 3",
   "language": "python",
   "name": "python3"
  },
  "language_info": {
   "codemirror_mode": {
    "name": "ipython",
    "version": 3
   },
   "file_extension": ".py",
   "mimetype": "text/x-python",
   "name": "python",
   "nbconvert_exporter": "python",
   "pygments_lexer": "ipython3",
   "version": "3.13.3"
  }
 },
 "nbformat": 4,
 "nbformat_minor": 5
}
