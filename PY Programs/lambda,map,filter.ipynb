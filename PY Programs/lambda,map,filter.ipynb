{
 "cells": [
  {
   "cell_type": "code",
   "execution_count": null,
   "id": "652f8424",
   "metadata": {},
   "outputs": [],
   "source": [
    "def add(a,b):\n",
    "    return a + b\n",
    "add(1,2)\n"
   ]
  },
  {
   "cell_type": "code",
   "execution_count": null,
   "id": "4734ea63",
   "metadata": {},
   "outputs": [],
   "source": [
    "lambda_add = lambda a, b: a + b\n",
    "lambda_add(1, 2)"
   ]
  },
  {
   "cell_type": "markdown",
   "id": "48a81eb1",
   "metadata": {},
   "source": [
    "# Use of lambda\n",
    "one line\n",
    "no return value\n",
    "no name\n",
    "no syntax\n",
    "no indentation\n"
   ]
  },
  {
   "cell_type": "code",
   "execution_count": null,
   "id": "1994ca2a",
   "metadata": {},
   "outputs": [],
   "source": [
    "def operation(a,b,oper):\n",
    "    return oper(a,b)\n",
    "def add(a,b):\n",
    "    return a+b\n",
    "def sub(a,b):\n",
    "    return a-b\n",
    "operation(3,4,sub)"
   ]
  },
  {
   "cell_type": "code",
   "execution_count": null,
   "id": "b66f7e57",
   "metadata": {},
   "outputs": [],
   "source": [
    "operation(2,3,lambda a,b:a+b)"
   ]
  },
  {
   "cell_type": "code",
   "execution_count": null,
   "id": "e5001bc3",
   "metadata": {},
   "outputs": [],
   "source": [
    "# map\n",
    "li = [1,2,3,4,5,6,7,77,6]\n",
    "list(map(lambda a:a**2,li)) # map function requires function,and iterable"
   ]
  },
  {
   "cell_type": "code",
   "execution_count": null,
   "id": "3eaba404",
   "metadata": {},
   "outputs": [],
   "source": [
    "from functools import reduce\n",
    "reduce(lambda x,y: x if x>y else y , li)\n"
   ]
  },
  {
   "cell_type": "code",
   "execution_count": null,
   "id": "cb11c8b6",
   "metadata": {},
   "outputs": [],
   "source": [
    "ls = [i for i in range(100)]\n",
    "ls"
   ]
  },
  {
   "cell_type": "markdown",
   "id": "9977633a",
   "metadata": {},
   "source": [
    "# Iterator and iterable"
   ]
  },
  {
   "cell_type": "code",
   "execution_count": null,
   "id": "6881cd28",
   "metadata": {},
   "outputs": [],
   "source": [
    "a = [i for i in range (100) ]\n",
    "a"
   ]
  },
  {
   "cell_type": "code",
   "execution_count": null,
   "id": "3c8f8489",
   "metadata": {},
   "outputs": [],
   "source": [
    "a = range(100)\n",
    "a"
   ]
  },
  {
   "cell_type": "code",
   "execution_count": null,
   "id": "b03750fa",
   "metadata": {},
   "outputs": [],
   "source": [
    "\n",
    "def myloop(num):\n",
    "    iterator = iter(num)\n",
    "    while True:\n",
    "        try:\n",
    "            print(next(iterator))\n",
    "        except StopIteration:\n",
    "            break\n"
   ]
  },
  {
   "cell_type": "code",
   "execution_count": null,
   "id": "226fb4bd",
   "metadata": {},
   "outputs": [],
   "source": [
    "z = [1,2,3,4,5,6]\n",
    "\n",
    "myloop(z)"
   ]
  },
  {
   "cell_type": "code",
   "execution_count": 3,
   "id": "e906bd60",
   "metadata": {},
   "outputs": [],
   "source": [
    "class myrange():\n",
    "    def __init__(self,start,stop,step=1):\n",
    "        self.start = start\n",
    "        self.stop = stop\n",
    "        self.step = step\n",
    "    def __iter__(self):\n",
    "        return self\n",
    "    def __next__(self):\n",
    "        if self.start<self.stop:\n",
    "            value = self.start\n",
    "            self.start = self.start+self.step\n",
    "            return value\n",
    "        else:\n",
    "            raise StopIteration\n",
    "        "
   ]
  },
  {
   "cell_type": "code",
   "execution_count": 4,
   "id": "727fcc2c",
   "metadata": {},
   "outputs": [],
   "source": [
    "rn = myrange(1,6)\n"
   ]
  },
  {
   "cell_type": "code",
   "execution_count": 5,
   "id": "9c8f8773",
   "metadata": {},
   "outputs": [
    {
     "name": "stdout",
     "output_type": "stream",
     "text": [
      "1\n",
      "2\n",
      "3\n",
      "4\n",
      "5\n"
     ]
    }
   ],
   "source": [
    "for i in rn:\n",
    "    print(i)"
   ]
  },
  {
   "cell_type": "code",
   "execution_count": null,
   "id": "628dd163",
   "metadata": {},
   "outputs": [],
   "source": []
  }
 ],
 "metadata": {
  "kernelspec": {
   "display_name": "Python 3",
   "language": "python",
   "name": "python3"
  },
  "language_info": {
   "codemirror_mode": {
    "name": "ipython",
    "version": 3
   },
   "file_extension": ".py",
   "mimetype": "text/x-python",
   "name": "python",
   "nbconvert_exporter": "python",
   "pygments_lexer": "ipython3",
   "version": "3.13.3"
  }
 },
 "nbformat": 4,
 "nbformat_minor": 5
}
