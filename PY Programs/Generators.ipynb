{
 "cells": [
  {
   "cell_type": "markdown",
   "id": "e97a39d8",
   "metadata": {},
   "source": [
    "# Generators"
   ]
  },
  {
   "cell_type": "code",
   "execution_count": null,
   "id": "9bda7c9a",
   "metadata": {},
   "outputs": [],
   "source": [
    "def myrange(start,stop,step=1):\n",
    "    while start<stop:\n",
    "        yield start\n",
    "        start = start + step\n",
    "\n",
    "r=myrange(1,6)\n",
    "for i in r:\n",
    "    print(i)\n",
    "    "
   ]
  }
 ],
 "metadata": {
  "kernelspec": {
   "display_name": "Python 3",
   "language": "python",
   "name": "python3"
  },
  "language_info": {
   "codemirror_mode": {
    "name": "ipython",
    "version": 3
   },
   "file_extension": ".py",
   "mimetype": "text/x-python",
   "name": "python",
   "nbconvert_exporter": "python",
   "pygments_lexer": "ipython3",
   "version": "3.13.3"
  }
 },
 "nbformat": 4,
 "nbformat_minor": 5
}
